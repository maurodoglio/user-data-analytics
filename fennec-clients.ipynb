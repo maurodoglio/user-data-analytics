{
 "cells": [
  {
   "cell_type": "code",
   "execution_count": null,
   "metadata": {
    "collapsed": false
   },
   "outputs": [],
   "source": [
    "import datetime as dt\n",
    "import pandas as pd\n",
    "import ujson as json\n",
    "\n",
    "from moztelemetry import get_pings, get_pings_properties, get_one_ping_per_client\n",
    "\n",
    "%pylab inline"
   ]
  },
  {
   "cell_type": "markdown",
   "metadata": {},
   "source": [
    "Create a set of pings from \"saved-session\" to build a set of core client data."
   ]
  },
  {
   "cell_type": "code",
   "execution_count": null,
   "metadata": {
    "collapsed": true
   },
   "outputs": [],
   "source": [
    "update_channel = \"beta\"\n",
    "now = dt.datetime.now()\n",
    "start = now - dt.timedelta(30)\n",
    "end = now - dt.timedelta(1)\n",
    "\n",
    "pings = get_pings(sc, app=\"Fennec\", channel=update_channel,\n",
    "                  submission_date=(start.strftime(\"%Y%m%d\"), end.strftime(\"%Y%m%d\")),\n",
    "                  build_id=(\"20100101000000\", \"99999999999999\"),\n",
    "                  fraction=1)\n",
    "\n",
    "subset = get_pings_properties(pings, [\"clientId\",\n",
    "                                      \"application/channel\",\n",
    "                                      \"application/version\",\n",
    "                                      \"meta/submissionDate\",\n",
    "                                      \"environment/profile/creationDate\",\n",
    "                                      \"environment/system/os/version\",\n",
    "                                      \"environment/system/memoryMB\"])"
   ]
  },
  {
   "cell_type": "markdown",
   "metadata": {},
   "source": [
    "Remove any pings without a clientId."
   ]
  },
  {
   "cell_type": "code",
   "execution_count": null,
   "metadata": {
    "collapsed": false
   },
   "outputs": [],
   "source": [
    "subset = subset.filter(lambda p: p[\"clientId\"] is not None)\n",
    "print subset.first()"
   ]
  },
  {
   "cell_type": "markdown",
   "metadata": {},
   "source": [
    "Sanitize the pings and reduce the set of pings to one ping per client per day."
   ]
  },
  {
   "cell_type": "code",
   "execution_count": null,
   "metadata": {
    "collapsed": true
   },
   "outputs": [],
   "source": [
    "def transform(ping):    \n",
    "    clientId = ping[\"clientId\"] # Should not be None since we filter those out\n",
    "\n",
    "    profileDate = None\n",
    "    profileDaynum = ping[\"environment/profile/creationDate\"]\n",
    "    if profileDaynum is not None:\n",
    "        profileDate = (dt.date(1970, 1, 1) + dt.timedelta(int(profileDaynum))).strftime(\"%Y%m%d\")\n",
    "\n",
    "    submissionDate = ping[\"meta/submissionDate\"] # Added via the ingestion process so should not be None\n",
    "\n",
    "    channel = ping[\"application/channel\"]\n",
    "    version = ping[\"application/version\"]\n",
    "    os_version = int(ping[\"environment/system/os/version\"])\n",
    "    memory = ping[\"environment/system/memoryMB\"]\n",
    "    if memory is None:\n",
    "        memory = 0\n",
    "    else:\n",
    "        memory = int(memory)\n",
    "            \n",
    "    return [clientId, channel, profileDate, submissionDate, version, os_version, memory]\n",
    "\n",
    "transformed = get_one_ping_per_client(subset).map(transform)\n",
    "print transformed.first()"
   ]
  },
  {
   "cell_type": "markdown",
   "metadata": {},
   "source": [
    "Output the data to CSV."
   ]
  },
  {
   "cell_type": "code",
   "execution_count": null,
   "metadata": {
    "collapsed": false
   },
   "outputs": [],
   "source": [
    "grouped = pd.DataFrame(transformed.collect(), columns=[\"clientid\", \"channel\", \"profiledate\", \"submissiondate\", \"version\", \"osversion\", \"memory\"])\n",
    "!mkdir -p ./output\n",
    "grouped.to_csv(\"./output/fennec-clients-\" + update_channel + \"-\" + end.strftime(\"%Y%m%d\") + \".csv\", index=False)\n",
    "\n",
    "s3_output = \"s3n://net-mozaws-prod-us-west-2-pipeline-analysis/mfinkle/fennec-clients-\" + update_channel + \"-\" + end.strftime(\"%Y%m%d\") \n",
    "grouped = sqlContext.createDataFrame(transformed, [\"clientid\", \"channel\", \"profiledate\", \"submissiondate\", \"version\", \"osversion\", \"memory\"])\n",
    "grouped.saveAsParquetFile(s3_output)\n"
   ]
  }
 ],
 "metadata": {
  "kernelspec": {
   "display_name": "Python 2",
   "language": "python",
   "name": "python2"
  },
  "language_info": {
   "codemirror_mode": {
    "name": "ipython",
    "version": 2
   },
   "file_extension": ".py",
   "mimetype": "text/x-python",
   "name": "python",
   "nbconvert_exporter": "python",
   "pygments_lexer": "ipython2",
   "version": "2.7.10"
  }
 },
 "nbformat": 4,
 "nbformat_minor": 0
}
