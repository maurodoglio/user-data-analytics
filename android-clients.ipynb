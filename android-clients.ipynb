{
 "cells": [
  {
   "cell_type": "code",
   "execution_count": 1,
   "metadata": {
    "collapsed": false
   },
   "outputs": [
    {
     "name": "stdout",
     "output_type": "stream",
     "text": [
      "Unable to parse whitelist (/home/hadoop/anaconda2/lib/python2.7/site-packages/moztelemetry/bucket-whitelist.json). Assuming all histograms are acceptable.\n",
      "Populating the interactive namespace from numpy and matplotlib\n"
     ]
    }
   ],
   "source": [
    "import datetime as dt\n",
    "import pandas as pd\n",
    "import ujson as json\n",
    "\n",
    "from moztelemetry import get_pings, get_pings_properties\n",
    "\n",
    "%pylab inline"
   ]
  },
  {
   "cell_type": "markdown",
   "metadata": {},
   "source": [
    "Create a set of pings from \"saved-session\" to build a set of core client data."
   ]
  },
  {
   "cell_type": "code",
   "execution_count": 2,
   "metadata": {
    "collapsed": true
   },
   "outputs": [],
   "source": [
    "update_channel = \"nightly\"\n",
    "now = dt.datetime.now()\n",
    "start = dt.datetime(2016,2,23) #now - dt.timedelta(30)\n",
    "end = dt.datetime(2016,2,28) #now - dt.timedelta(1)\n",
    "\n",
    "pings = get_pings(sc, app=\"Fennec\", channel=update_channel,\n",
    "                  submission_date=(start.strftime(\"%Y%m%d\"), end.strftime(\"%Y%m%d\")),\n",
    "                  build_id=(\"20100101000000\", \"99999999999999\"),\n",
    "                  fraction=1)\n",
    "\n",
    "subset = get_pings_properties(pings, [\"meta/clientId\",\n",
    "                                      \"meta/documentId\",\n",
    "                                      \"meta/submissionDate\",\n",
    "                                      \"creationDate\",\n",
    "                                      \"application/version\",\n",
    "                                      \"environment/system/os/version\",\n",
    "                                      \"environment/profile/creationDate\",\n",
    "                                      \"environment/settings/locale\",\n",
    "                                      \"environment/settings/defaultSearchEngine\"])"
   ]
  },
  {
   "cell_type": "markdown",
   "metadata": {},
   "source": [
    "Take the set of pings, make sure we have actual clientIds and remove duplicate pings."
   ]
  },
  {
   "cell_type": "code",
   "execution_count": 3,
   "metadata": {
    "collapsed": false
   },
   "outputs": [
    {
     "name": "stdout",
     "output_type": "stream",
     "text": [
      "{'meta/documentId': u'1ef07f3f-c51c-4dea-93b5-f6b7ee82fc16', 'meta/submissionDate': u'20160226', 'environment/system/os/version': 22, 'application/version': u'47.0a1', 'environment/profile/creationDate': 16570, 'meta/clientId': u'7746e9c7-4baf-463f-97d7-e1d5cf608816', 'creationDate': u'2016-02-26T12:21:38.090Z', 'environment/settings/defaultSearchEngine': None, 'environment/settings/locale': u'en-US'}\n"
     ]
    }
   ],
   "source": [
    "def dedupe_pings(rdd):\n",
    "    return rdd.filter(lambda p: p[\"meta/clientId\"] is not None)\\\n",
    "              .map(lambda p: (p[\"meta/clientId\"] + p[\"meta/documentId\"], p))\\\n",
    "              .reduceByKey(lambda x, y: x)\\\n",
    "              .map(lambda x: x[1])\n",
    "\n",
    "subset = dedupe_pings(subset)\n",
    "print subset.first()"
   ]
  },
  {
   "cell_type": "markdown",
   "metadata": {},
   "source": [
    "Reduce the set of pings to one ping per client environment, using the all of the data to define the environment. We can have multiple pings/rows per day per client, as changes happen during the day."
   ]
  },
  {
   "cell_type": "code",
   "execution_count": 4,
   "metadata": {
    "collapsed": false
   },
   "outputs": [
    {
     "data": {
      "text/plain": [
       "[{'application/version': u'47.0a1',\n",
       "  'creationDate': u'2016-02-22T16:28:03.273Z',\n",
       "  'environment/profile/creationDate': 16836,\n",
       "  'environment/settings/defaultSearchEngine': u'baidu',\n",
       "  'environment/settings/locale': u'zh-CN',\n",
       "  'environment/system/os/version': 21,\n",
       "  'meta/clientId': u'fcdc38b3-684a-418a-8069-6ed755681516',\n",
       "  'meta/documentId': u'7142b6fd-3398-4854-bb40-2bb060f86377',\n",
       "  'meta/submissionDate': u'20160223'},\n",
       " {'application/version': u'46.0a1',\n",
       "  'creationDate': u'2016-02-24T11:47:01.241Z',\n",
       "  'environment/profile/creationDate': None,\n",
       "  'environment/settings/defaultSearchEngine': u'google',\n",
       "  'environment/settings/locale': u'pl',\n",
       "  'environment/system/os/version': 21,\n",
       "  'meta/clientId': u'44585ab0-60d8-4e64-859d-827dfbc52d9c',\n",
       "  'meta/documentId': u'4f5384e0-045b-4e17-9b78-d89675beb5f8',\n",
       "  'meta/submissionDate': u'20160224'},\n",
       " {'application/version': u'47.0a1',\n",
       "  'creationDate': u'2016-02-25T21:47:53.462Z',\n",
       "  'environment/profile/creationDate': 16847,\n",
       "  'environment/settings/defaultSearchEngine': u'google',\n",
       "  'environment/settings/locale': u'es-ES',\n",
       "  'environment/system/os/version': 19,\n",
       "  'meta/clientId': u'92c8e229-a39d-4f65-b37c-8b4f801ad3b2',\n",
       "  'meta/documentId': u'd0eabb33-fb54-42dc-abbe-3073eb82d09e',\n",
       "  'meta/submissionDate': u'20160226'}]"
      ]
     },
     "execution_count": 4,
     "metadata": {},
     "output_type": "execute_result"
    }
   ],
   "source": [
    "def safe_str(obj):\n",
    "    if obj is None:\n",
    "        return unicode(\"\")\n",
    "    return unicode(obj)\n",
    "\n",
    "# Make a key out of any data item we want to monitor over time.\n",
    "def build_client_history_key(p):\n",
    "    # We ignore creationDate, but include submissionDate. This means we'll have one entry per\n",
    "    # client per day at minimum.\n",
    "    key = p[\"meta/clientId\"] +\\\n",
    "          p[\"meta/submissionDate\"] +\\\n",
    "          safe_str(p[\"application/version\"]) +\\\n",
    "          safe_str(p[\"environment/system/os/version\"]) +\\\n",
    "          safe_str(p[\"environment/profile/creationDate\"]) +\\\n",
    "          safe_str(p[\"environment/settings/locale\"]) +\\\n",
    "          safe_str(p[\"environment/settings/defaultSearchEngine\"])\n",
    "    \n",
    "    return key\n",
    "\n",
    "# Reduce the set of pings to a unique list of environment history changes.\n",
    "# Multiple changes can happen per day\n",
    "def reduce_by_client_history(rdd):\n",
    "    return rdd.map(lambda p: (build_client_history_key(p), p))\\\n",
    "              .reduceByKey(lambda x, y: x)\\\n",
    "              .map(lambda x: x[1])\n",
    "\n",
    "reduced = reduce_by_client_history(subset)\n",
    "reduced.take(3)"
   ]
  },
  {
   "cell_type": "markdown",
   "metadata": {},
   "source": [
    "Transform and sanitize the pings into arrays."
   ]
  },
  {
   "cell_type": "code",
   "execution_count": 7,
   "metadata": {
    "collapsed": false
   },
   "outputs": [
    {
     "name": "stdout",
     "output_type": "stream",
     "text": [
      "[u'6720b638-501b-4899-a883-c6d2125443aa', datetime.date(2016, 2, 28), datetime.date(2016, 2, 28), datetime.datetime(2016, 2, 28, 9, 28, 44, 789000), u'47.0a1', 21, u'zh-CN', u'baidu', '[]']\n"
     ]
    }
   ],
   "source": [
    "def transform(ping):    \n",
    "    clientId = ping[\"meta/clientId\"] # Should not be None since we filter those out\n",
    "\n",
    "    profileDate = None\n",
    "    profileDaynum = ping[\"environment/profile/creationDate\"]\n",
    "    if profileDaynum is not None:\n",
    "        profileDate = dt.date(1970, 1, 1) + dt.timedelta(int(profileDaynum))\n",
    "\n",
    "    creationDate = ping[\"creationDate\"]\n",
    "    if creationDate is not None:\n",
    "        # This is only accurate because we know the creation date is always in 'Z' (zulu) time.\n",
    "        creationDate = dt.datetime.strptime(ping[\"creationDate\"], \"%Y-%m-%dT%H:%M:%S.%fZ\")\n",
    "\n",
    "    # Added via the ingestion process so should not be None.\n",
    "    submissionDate = dt.datetime.strptime(ping[\"meta/submissionDate\"], \"%Y%m%d\").date()\n",
    "\n",
    "    version = ping[\"application/version\"]\n",
    "    os_version = int(ping[\"environment/system/os/version\"])\n",
    "    locale = ping[\"environment/settings/locale\"]\n",
    "    defaultSearch = ping[\"environment/settings/defaultSearchEngine\"]\n",
    "\n",
    "    # Experiments will be in delivered via \"core\" ping, so let's just pad it for now.\n",
    "    experiments = []\n",
    "            \n",
    "    return [clientId, profileDate, submissionDate, creationDate, version, os_version, locale, defaultSearch, json.dumps(experiments)]\n",
    "\n",
    "transformed = reduced.map(transform)\n",
    "print transformed.first()"
   ]
  },
  {
   "cell_type": "markdown",
   "metadata": {},
   "source": [
    "Output the data to CSV or Parquet."
   ]
  },
  {
   "cell_type": "code",
   "execution_count": 8,
   "metadata": {
    "collapsed": false
   },
   "outputs": [],
   "source": [
    "grouped = pd.DataFrame(transformed.collect(), columns=[\"clientid\", \"profiledate\", \"submissiondate\", \"creationdate\", \"appversion\", \"osversion\", \"locale\", \"defaultsearch\", \"experiments\"])\n",
    "!mkdir -p ./output\n",
    "grouped.to_csv(\"./output/android-clients-\" + update_channel + \"-\" + end.strftime(\"%Y%m%d\") + \".csv\", index=False, encoding=\"utf-8\")\n",
    "\n",
    "#s3_output = \"s3n://net-mozaws-prod-us-west-2-pipeline-analysis/mfinkle/android_clients\"\n",
    "#s3_output += \"/v1/channel=\" + update_channel + \"/end_date=\" + end.strftime(\"%Y%m%d\") \n",
    "#grouped = sqlContext.createDataFrame(transformed, [\"clientid\", \"profiledate\", \"submissiondate\", \"version\", \"osversion\", \"memory\"])\n",
    "#grouped.saveAsParquetFile(s3_output)\n"
   ]
  }
 ],
 "metadata": {
  "kernelspec": {
   "display_name": "Python 2",
   "language": "python",
   "name": "python2"
  },
  "language_info": {
   "codemirror_mode": {
    "name": "ipython",
    "version": 2
   },
   "file_extension": ".py",
   "mimetype": "text/x-python",
   "name": "python",
   "nbconvert_exporter": "python",
   "pygments_lexer": "ipython2",
   "version": "2.7.10"
  }
 },
 "nbformat": 4,
 "nbformat_minor": 0
}
